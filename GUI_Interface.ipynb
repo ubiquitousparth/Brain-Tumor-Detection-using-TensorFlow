{
 "cells": [
  {
   "cell_type": "code",
   "execution_count": null,
   "id": "6006bb0a-4ec3-451a-92d6-9a25919c2e3d",
   "metadata": {},
   "outputs": [
    {
     "name": "stderr",
     "output_type": "stream",
     "text": [
      "2024-07-08 18:53:30.761153: I tensorflow/core/util/port.cc:113] oneDNN custom operations are on. You may see slightly different numerical results due to floating-point round-off errors from different computation orders. To turn them off, set the environment variable `TF_ENABLE_ONEDNN_OPTS=0`.\n",
      "2024-07-08 18:53:30.788540: I tensorflow/core/platform/cpu_feature_guard.cc:210] This TensorFlow binary is optimized to use available CPU instructions in performance-critical operations.\n",
      "To enable the following instructions: AVX2 AVX_VNNI FMA, in other operations, rebuild TensorFlow with the appropriate compiler flags.\n",
      "2024-07-08 18:53:31.283439: W tensorflow/compiler/tf2tensorrt/utils/py_utils.cc:38] TF-TRT Warning: Could not find TensorRT\n",
      "2024-07-08 18:53:31.795298: I external/local_xla/xla/stream_executor/cuda/cuda_executor.cc:998] successful NUMA node read from SysFS had negative value (-1), but there must be at least one NUMA node, so returning NUMA node zero. See more at https://github.com/torvalds/linux/blob/v6.0/Documentation/ABI/testing/sysfs-bus-pci#L344-L355\n",
      "2024-07-08 18:53:31.818808: W tensorflow/core/common_runtime/gpu/gpu_device.cc:2251] Cannot dlopen some GPU libraries. Please make sure the missing libraries mentioned above are installed properly if you would like to use GPU. Follow the guide at https://www.tensorflow.org/install/gpu for how to download and setup the required libraries for your platform.\n",
      "Skipping registering GPU devices...\n",
      "WARNING:absl:Compiled the loaded model, but the compiled metrics have yet to be built. `model.compile_metrics` will be empty until you train or evaluate the model.\n"
     ]
    },
    {
     "name": "stdout",
     "output_type": "stream",
     "text": [
      "\u001b[1m1/1\u001b[0m \u001b[32m━━━━━━━━━━━━━━━━━━━━\u001b[0m\u001b[37m\u001b[0m \u001b[1m0s\u001b[0m 91ms/step\n",
      "\u001b[1m1/1\u001b[0m \u001b[32m━━━━━━━━━━━━━━━━━━━━\u001b[0m\u001b[37m\u001b[0m \u001b[1m0s\u001b[0m 16ms/step\n"
     ]
    }
   ],
   "source": [
    "import tensorflow as tf\n",
    "import numpy as np\n",
    "import cv2\n",
    "import os\n",
    "from tkinter import Tk, Label, Button, filedialog, Frame, PhotoImage, Toplevel\n",
    "from tkinter import messagebox\n",
    "from PIL import Image, ImageTk\n",
    "from tensorflow.keras.models import load_model\n",
    "\n",
    "# Load the model\n",
    "model_path = os.path.join('models', 'tumordetector.h5')\n",
    "new_model = load_model(model_path)\n",
    "\n",
    "# preprocessing image\n",
    "def preprocess_image(img_path):\n",
    "    img = cv2.imread(img_path)\n",
    "    img = cv2.cvtColor(img, cv2.COLOR_BGR2RGB)\n",
    "    img = tf.image.resize(img, (256, 256))\n",
    "    img = img / 255.0\n",
    "    return img\n",
    "\n",
    "# main logic\n",
    "def predict(image_path):\n",
    "    img = preprocess_image(image_path)\n",
    "    yhat = new_model.predict(np.expand_dims(img, axis=0))\n",
    "    if yhat > 0.5:\n",
    "        return \"This MRI scan has a tumor\"\n",
    "    else:\n",
    "        return \"The MRI scan has no tumor.\"\n",
    "\n",
    "# upload image dialog box\n",
    "def upload_image():\n",
    "    file_path = filedialog.askopenfilename()\n",
    "    if file_path:\n",
    "        try:\n",
    "            img = Image.open(file_path)\n",
    "            img = img.resize((256, 256))\n",
    "            img = ImageTk.PhotoImage(img)\n",
    "            panel.config(image=img)\n",
    "            panel.image = img\n",
    "            result_label.config(text=\"Processing...\", fg=\"blue\")\n",
    "            window.update_idletasks()\n",
    "            result = predict(file_path)\n",
    "            result_label.config(text=result, fg=\"blue\")\n",
    "        except Exception as e:\n",
    "            messagebox.showerror(\"Error\", f\"Failed to process image.\\n{str(e)}\")\n",
    "\n",
    "# main window\n",
    "window = Tk()\n",
    "window.title(\"Brain Tumor Detector\")\n",
    "window.geometry(\"600x700\")\n",
    "window.configure(bg='#F7F7F7')\n",
    "\n",
    "#title label\n",
    "title_label = Label(window, text=\"Brain Tumor Detector\", font=(\"Helvetica\", 24, \"bold\"), bg='#F7F7F7', fg='#333333')\n",
    "title_label.pack(pady=20)\n",
    "\n",
    "#frame for the image display\n",
    "frame = Frame(window, bg='#F7F7F7')\n",
    "frame.pack(pady=10)\n",
    "\n",
    "#image panel\n",
    "panel = Label(frame, bg='#F7F7F7')\n",
    "panel.pack()\n",
    "\n",
    "#upload button\n",
    "upload_button = Button(window, text=\"Upload Image\", command=upload_image, font=(\"Helvetica\", 14), bg='#4CAF50', fg='white', padx=20, pady=10)\n",
    "upload_button.pack(pady=20)\n",
    "\n",
    "#result label\n",
    "result_label = Label(window, text=\"\", font=(\"Helvetica\", 16), bg='#F7F7F7', fg='blue')\n",
    "result_label.pack(pady=20)\n",
    "\n",
    "window.mainloop()"
   ]
  },
  {
   "cell_type": "code",
   "execution_count": null,
   "id": "e14994e3-417e-4e62-abfc-b47dd66d461d",
   "metadata": {},
   "outputs": [],
   "source": []
  }
 ],
 "metadata": {
  "kernelspec": {
   "display_name": "Python 3 (ipykernel)",
   "language": "python",
   "name": "python3"
  },
  "language_info": {
   "codemirror_mode": {
    "name": "ipython",
    "version": 3
   },
   "file_extension": ".py",
   "mimetype": "text/x-python",
   "name": "python",
   "nbconvert_exporter": "python",
   "pygments_lexer": "ipython3",
   "version": "3.11.5"
  }
 },
 "nbformat": 4,
 "nbformat_minor": 5
}
